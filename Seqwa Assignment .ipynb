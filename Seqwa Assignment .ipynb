{
 "cells": [
  {
   "cell_type": "code",
   "execution_count": 24,
   "metadata": {},
   "outputs": [],
   "source": [
    "import pandas as pd\n",
    "import numpy as np\n",
    "import matplotlib.pyplot as plt\n",
    "import seaborn as sns"
   ]
  },
  {
   "cell_type": "code",
   "execution_count": 25,
   "metadata": {},
   "outputs": [
    {
     "data": {
      "text/html": [
       "<div>\n",
       "<style scoped>\n",
       "    .dataframe tbody tr th:only-of-type {\n",
       "        vertical-align: middle;\n",
       "    }\n",
       "\n",
       "    .dataframe tbody tr th {\n",
       "        vertical-align: top;\n",
       "    }\n",
       "\n",
       "    .dataframe thead th {\n",
       "        text-align: right;\n",
       "    }\n",
       "</style>\n",
       "<table border=\"1\" class=\"dataframe\">\n",
       "  <thead>\n",
       "    <tr style=\"text-align: right;\">\n",
       "      <th></th>\n",
       "      <th>Reporting Period</th>\n",
       "      <th>Home Performance Project ID</th>\n",
       "      <th>Home Performance Site ID</th>\n",
       "      <th>Project County</th>\n",
       "      <th>Project City</th>\n",
       "      <th>Project Zip</th>\n",
       "      <th>Gas Utility</th>\n",
       "      <th>Electric Utility</th>\n",
       "      <th>Project Completion Date</th>\n",
       "      <th>Customer Type</th>\n",
       "      <th>...</th>\n",
       "      <th>Total Project Cost (USD)</th>\n",
       "      <th>Total Incentives (USD)</th>\n",
       "      <th>Type of Program Financing</th>\n",
       "      <th>Amount Financed Through Program (USD)</th>\n",
       "      <th>Pre-Retrofit Home Heating Fuel Type</th>\n",
       "      <th>Estimated Annual kWh Savings</th>\n",
       "      <th>Estimated Annual MMBtu Savings</th>\n",
       "      <th>First Year Energy Savings $ Estimate (USD)</th>\n",
       "      <th>Homeowner Received Green Jobs-Green NY Free/Reduced Cost Audit (Y/N)</th>\n",
       "      <th>Location</th>\n",
       "    </tr>\n",
       "  </thead>\n",
       "  <tbody>\n",
       "    <tr>\n",
       "      <th>0</th>\n",
       "      <td>01/31/2018</td>\n",
       "      <td>P00000780513</td>\n",
       "      <td>S00000167844</td>\n",
       "      <td>Jefferson</td>\n",
       "      <td>Three Mile Bay</td>\n",
       "      <td>13693</td>\n",
       "      <td>NaN</td>\n",
       "      <td>National Grid</td>\n",
       "      <td>07/06/2012</td>\n",
       "      <td>Assisted</td>\n",
       "      <td>...</td>\n",
       "      <td>10000</td>\n",
       "      <td>5000</td>\n",
       "      <td>NaN</td>\n",
       "      <td>0</td>\n",
       "      <td>Propane</td>\n",
       "      <td>0</td>\n",
       "      <td>19</td>\n",
       "      <td>689</td>\n",
       "      <td>Yes</td>\n",
       "      <td>Three Mile\\nBay, NY 13693\\n</td>\n",
       "    </tr>\n",
       "    <tr>\n",
       "      <th>1</th>\n",
       "      <td>01/31/2018</td>\n",
       "      <td>P00000896731</td>\n",
       "      <td>S00000220979</td>\n",
       "      <td>Orleans</td>\n",
       "      <td>Kent</td>\n",
       "      <td>14477</td>\n",
       "      <td>NaN</td>\n",
       "      <td>National Grid</td>\n",
       "      <td>07/14/2014</td>\n",
       "      <td>Assisted</td>\n",
       "      <td>...</td>\n",
       "      <td>2980</td>\n",
       "      <td>1490</td>\n",
       "      <td>NaN</td>\n",
       "      <td>0</td>\n",
       "      <td>Oil</td>\n",
       "      <td>280</td>\n",
       "      <td>31</td>\n",
       "      <td>571</td>\n",
       "      <td>Yes</td>\n",
       "      <td>Kent, NY 14477\\n(43.346379, -78.13651)</td>\n",
       "    </tr>\n",
       "    <tr>\n",
       "      <th>2</th>\n",
       "      <td>01/31/2018</td>\n",
       "      <td>P00000900996</td>\n",
       "      <td>S00000246366</td>\n",
       "      <td>Saint Lawrence</td>\n",
       "      <td>Potsdam</td>\n",
       "      <td>13676</td>\n",
       "      <td>NaN</td>\n",
       "      <td>National Grid</td>\n",
       "      <td>09/16/2014</td>\n",
       "      <td>Market</td>\n",
       "      <td>...</td>\n",
       "      <td>13500</td>\n",
       "      <td>1350</td>\n",
       "      <td>NaN</td>\n",
       "      <td>0</td>\n",
       "      <td>Oil</td>\n",
       "      <td>0</td>\n",
       "      <td>26</td>\n",
       "      <td>702</td>\n",
       "      <td>No</td>\n",
       "      <td>Potsdam, NY 13676\\n(44.65525, -74.932432)</td>\n",
       "    </tr>\n",
       "    <tr>\n",
       "      <th>3</th>\n",
       "      <td>01/31/2018</td>\n",
       "      <td>P00000935291</td>\n",
       "      <td>S00000265719</td>\n",
       "      <td>Oneida</td>\n",
       "      <td>Rome</td>\n",
       "      <td>13440</td>\n",
       "      <td>NaN</td>\n",
       "      <td>National Grid</td>\n",
       "      <td>01/23/2015</td>\n",
       "      <td>Assisted</td>\n",
       "      <td>...</td>\n",
       "      <td>6000</td>\n",
       "      <td>3000</td>\n",
       "      <td>NaN</td>\n",
       "      <td>0</td>\n",
       "      <td>Oil</td>\n",
       "      <td>181</td>\n",
       "      <td>14</td>\n",
       "      <td>388</td>\n",
       "      <td>Yes</td>\n",
       "      <td>Rome, NY 13440\\n(43.214717, -75.454665)</td>\n",
       "    </tr>\n",
       "    <tr>\n",
       "      <th>4</th>\n",
       "      <td>01/31/2018</td>\n",
       "      <td>P00000936199</td>\n",
       "      <td>S00000267582</td>\n",
       "      <td>Oneida</td>\n",
       "      <td>Rome</td>\n",
       "      <td>13440</td>\n",
       "      <td>NaN</td>\n",
       "      <td>National Grid</td>\n",
       "      <td>02/09/2015</td>\n",
       "      <td>Market</td>\n",
       "      <td>...</td>\n",
       "      <td>8915</td>\n",
       "      <td>892</td>\n",
       "      <td>NaN</td>\n",
       "      <td>0</td>\n",
       "      <td>Oil</td>\n",
       "      <td>0</td>\n",
       "      <td>38</td>\n",
       "      <td>1001</td>\n",
       "      <td>Yes</td>\n",
       "      <td>Rome, NY 13440\\n(43.214717, -75.454665)</td>\n",
       "    </tr>\n",
       "  </tbody>\n",
       "</table>\n",
       "<p>5 rows × 21 columns</p>\n",
       "</div>"
      ],
      "text/plain": [
       "  Reporting Period Home Performance Project ID Home Performance Site ID  \\\n",
       "0       01/31/2018                P00000780513             S00000167844   \n",
       "1       01/31/2018                P00000896731             S00000220979   \n",
       "2       01/31/2018                P00000900996             S00000246366   \n",
       "3       01/31/2018                P00000935291             S00000265719   \n",
       "4       01/31/2018                P00000936199             S00000267582   \n",
       "\n",
       "   Project County    Project City  Project Zip Gas Utility Electric Utility  \\\n",
       "0       Jefferson  Three Mile Bay        13693         NaN    National Grid   \n",
       "1         Orleans            Kent        14477         NaN    National Grid   \n",
       "2  Saint Lawrence         Potsdam        13676         NaN    National Grid   \n",
       "3          Oneida            Rome        13440         NaN    National Grid   \n",
       "4          Oneida            Rome        13440         NaN    National Grid   \n",
       "\n",
       "  Project Completion Date Customer Type  \\\n",
       "0              07/06/2012      Assisted   \n",
       "1              07/14/2014      Assisted   \n",
       "2              09/16/2014        Market   \n",
       "3              01/23/2015      Assisted   \n",
       "4              02/09/2015        Market   \n",
       "\n",
       "                     ...                     Total Project Cost (USD)  \\\n",
       "0                    ...                                        10000   \n",
       "1                    ...                                         2980   \n",
       "2                    ...                                        13500   \n",
       "3                    ...                                         6000   \n",
       "4                    ...                                         8915   \n",
       "\n",
       "   Total Incentives (USD)  Type of Program Financing  \\\n",
       "0                    5000                        NaN   \n",
       "1                    1490                        NaN   \n",
       "2                    1350                        NaN   \n",
       "3                    3000                        NaN   \n",
       "4                     892                        NaN   \n",
       "\n",
       "  Amount Financed Through Program (USD)  Pre-Retrofit Home Heating Fuel Type  \\\n",
       "0                                     0                              Propane   \n",
       "1                                     0                                  Oil   \n",
       "2                                     0                                  Oil   \n",
       "3                                     0                                  Oil   \n",
       "4                                     0                                  Oil   \n",
       "\n",
       "  Estimated Annual kWh Savings  Estimated Annual MMBtu Savings  \\\n",
       "0                            0                              19   \n",
       "1                          280                              31   \n",
       "2                            0                              26   \n",
       "3                          181                              14   \n",
       "4                            0                              38   \n",
       "\n",
       "   First Year Energy Savings $ Estimate (USD)  \\\n",
       "0                                         689   \n",
       "1                                         571   \n",
       "2                                         702   \n",
       "3                                         388   \n",
       "4                                        1001   \n",
       "\n",
       "   Homeowner Received Green Jobs-Green NY Free/Reduced Cost Audit (Y/N)  \\\n",
       "0                                                Yes                      \n",
       "1                                                Yes                      \n",
       "2                                                 No                      \n",
       "3                                                Yes                      \n",
       "4                                                Yes                      \n",
       "\n",
       "                                    Location  \n",
       "0                Three Mile\\nBay, NY 13693\\n  \n",
       "1     Kent, NY 14477\\n(43.346379, -78.13651)  \n",
       "2  Potsdam, NY 13676\\n(44.65525, -74.932432)  \n",
       "3    Rome, NY 13440\\n(43.214717, -75.454665)  \n",
       "4    Rome, NY 13440\\n(43.214717, -75.454665)  \n",
       "\n",
       "[5 rows x 21 columns]"
      ]
     },
     "execution_count": 25,
     "metadata": {},
     "output_type": "execute_result"
    }
   ],
   "source": [
    "d0=pd.read_csv('D:/Projects/Seqwa Assignment/The_One-_to_Four-Family_Home_Performance_with_ENERGY_STAR__Program__Beginning_2010.csv')\n",
    "d0.head()"
   ]
  },
  {
   "cell_type": "code",
   "execution_count": 26,
   "metadata": {},
   "outputs": [
    {
     "data": {
      "text/plain": [
       "(48871, 21)"
      ]
     },
     "execution_count": 26,
     "metadata": {},
     "output_type": "execute_result"
    }
   ],
   "source": [
    "d0.shape"
   ]
  },
  {
   "cell_type": "code",
   "execution_count": 27,
   "metadata": {},
   "outputs": [
    {
     "data": {
      "text/html": [
       "<div>\n",
       "<style scoped>\n",
       "    .dataframe tbody tr th:only-of-type {\n",
       "        vertical-align: middle;\n",
       "    }\n",
       "\n",
       "    .dataframe tbody tr th {\n",
       "        vertical-align: top;\n",
       "    }\n",
       "\n",
       "    .dataframe thead th {\n",
       "        text-align: right;\n",
       "    }\n",
       "</style>\n",
       "<table border=\"1\" class=\"dataframe\">\n",
       "  <thead>\n",
       "    <tr style=\"text-align: right;\">\n",
       "      <th></th>\n",
       "      <th>Project Zip</th>\n",
       "      <th>Total Project Cost (USD)</th>\n",
       "      <th>Total Incentives (USD)</th>\n",
       "      <th>Amount Financed Through Program (USD)</th>\n",
       "      <th>Estimated Annual kWh Savings</th>\n",
       "      <th>Estimated Annual MMBtu Savings</th>\n",
       "      <th>First Year Energy Savings $ Estimate (USD)</th>\n",
       "    </tr>\n",
       "  </thead>\n",
       "  <tbody>\n",
       "    <tr>\n",
       "      <th>count</th>\n",
       "      <td>48871.000000</td>\n",
       "      <td>48871.000000</td>\n",
       "      <td>48871.000000</td>\n",
       "      <td>48871.000000</td>\n",
       "      <td>48871.000000</td>\n",
       "      <td>48871.000000</td>\n",
       "      <td>48871.000000</td>\n",
       "    </tr>\n",
       "    <tr>\n",
       "      <th>mean</th>\n",
       "      <td>13211.800434</td>\n",
       "      <td>8476.919605</td>\n",
       "      <td>1675.083894</td>\n",
       "      <td>2886.845471</td>\n",
       "      <td>458.446850</td>\n",
       "      <td>31.624419</td>\n",
       "      <td>691.610730</td>\n",
       "    </tr>\n",
       "    <tr>\n",
       "      <th>std</th>\n",
       "      <td>1319.040080</td>\n",
       "      <td>6051.524131</td>\n",
       "      <td>1612.013314</td>\n",
       "      <td>5323.094549</td>\n",
       "      <td>2097.060386</td>\n",
       "      <td>28.721297</td>\n",
       "      <td>758.542824</td>\n",
       "    </tr>\n",
       "    <tr>\n",
       "      <th>min</th>\n",
       "      <td>10001.000000</td>\n",
       "      <td>152.000000</td>\n",
       "      <td>0.000000</td>\n",
       "      <td>0.000000</td>\n",
       "      <td>-27585.000000</td>\n",
       "      <td>-362.000000</td>\n",
       "      <td>-588.000000</td>\n",
       "    </tr>\n",
       "    <tr>\n",
       "      <th>25%</th>\n",
       "      <td>12010.000000</td>\n",
       "      <td>4427.500000</td>\n",
       "      <td>491.500000</td>\n",
       "      <td>0.000000</td>\n",
       "      <td>0.000000</td>\n",
       "      <td>14.000000</td>\n",
       "      <td>215.000000</td>\n",
       "    </tr>\n",
       "    <tr>\n",
       "      <th>50%</th>\n",
       "      <td>13501.000000</td>\n",
       "      <td>6879.000000</td>\n",
       "      <td>1003.000000</td>\n",
       "      <td>0.000000</td>\n",
       "      <td>1.000000</td>\n",
       "      <td>26.000000</td>\n",
       "      <td>441.000000</td>\n",
       "    </tr>\n",
       "    <tr>\n",
       "      <th>75%</th>\n",
       "      <td>14464.000000</td>\n",
       "      <td>10766.500000</td>\n",
       "      <td>2460.000000</td>\n",
       "      <td>4334.500000</td>\n",
       "      <td>400.000000</td>\n",
       "      <td>42.000000</td>\n",
       "      <td>874.000000</td>\n",
       "    </tr>\n",
       "    <tr>\n",
       "      <th>max</th>\n",
       "      <td>14905.000000</td>\n",
       "      <td>94772.000000</td>\n",
       "      <td>12000.000000</td>\n",
       "      <td>25000.000000</td>\n",
       "      <td>174258.000000</td>\n",
       "      <td>455.000000</td>\n",
       "      <td>24396.000000</td>\n",
       "    </tr>\n",
       "  </tbody>\n",
       "</table>\n",
       "</div>"
      ],
      "text/plain": [
       "        Project Zip  Total Project Cost (USD)  Total Incentives (USD)  \\\n",
       "count  48871.000000              48871.000000            48871.000000   \n",
       "mean   13211.800434               8476.919605             1675.083894   \n",
       "std     1319.040080               6051.524131             1612.013314   \n",
       "min    10001.000000                152.000000                0.000000   \n",
       "25%    12010.000000               4427.500000              491.500000   \n",
       "50%    13501.000000               6879.000000             1003.000000   \n",
       "75%    14464.000000              10766.500000             2460.000000   \n",
       "max    14905.000000              94772.000000            12000.000000   \n",
       "\n",
       "       Amount Financed Through Program (USD)  Estimated Annual kWh Savings  \\\n",
       "count                           48871.000000                  48871.000000   \n",
       "mean                             2886.845471                    458.446850   \n",
       "std                              5323.094549                   2097.060386   \n",
       "min                                 0.000000                 -27585.000000   \n",
       "25%                                 0.000000                      0.000000   \n",
       "50%                                 0.000000                      1.000000   \n",
       "75%                              4334.500000                    400.000000   \n",
       "max                             25000.000000                 174258.000000   \n",
       "\n",
       "       Estimated Annual MMBtu Savings  \\\n",
       "count                    48871.000000   \n",
       "mean                        31.624419   \n",
       "std                         28.721297   \n",
       "min                       -362.000000   \n",
       "25%                         14.000000   \n",
       "50%                         26.000000   \n",
       "75%                         42.000000   \n",
       "max                        455.000000   \n",
       "\n",
       "       First Year Energy Savings $ Estimate (USD)  \n",
       "count                                48871.000000  \n",
       "mean                                   691.610730  \n",
       "std                                    758.542824  \n",
       "min                                   -588.000000  \n",
       "25%                                    215.000000  \n",
       "50%                                    441.000000  \n",
       "75%                                    874.000000  \n",
       "max                                  24396.000000  "
      ]
     },
     "execution_count": 27,
     "metadata": {},
     "output_type": "execute_result"
    }
   ],
   "source": [
    "d0.describe()"
   ]
  },
  {
   "cell_type": "code",
   "execution_count": 28,
   "metadata": {},
   "outputs": [
    {
     "name": "stdout",
     "output_type": "stream",
     "text": [
      "<class 'pandas.core.frame.DataFrame'>\n",
      "RangeIndex: 48871 entries, 0 to 48870\n",
      "Data columns (total 21 columns):\n",
      "Reporting Period                                                        48871 non-null object\n",
      "Home Performance Project ID                                             48871 non-null object\n",
      "Home Performance Site ID                                                48871 non-null object\n",
      "Project County                                                          48871 non-null object\n",
      "Project City                                                            48871 non-null object\n",
      "Project Zip                                                             48871 non-null int64\n",
      "Gas Utility                                                             34308 non-null object\n",
      "Electric Utility                                                        48871 non-null object\n",
      "Project Completion Date                                                 48871 non-null object\n",
      "Customer Type                                                           48871 non-null object\n",
      "Low-Rise or Home Performance Indicator                                  48871 non-null object\n",
      "Total Project Cost (USD)                                                48871 non-null int64\n",
      "Total Incentives (USD)                                                  48871 non-null int64\n",
      "Type of Program Financing                                               15381 non-null object\n",
      "Amount Financed Through Program (USD)                                   48871 non-null int64\n",
      "Pre-Retrofit Home Heating Fuel Type                                     48871 non-null object\n",
      "Estimated Annual kWh Savings                                            48871 non-null int64\n",
      "Estimated Annual MMBtu Savings                                          48871 non-null int64\n",
      "First Year Energy Savings $ Estimate (USD)                              48871 non-null int64\n",
      "Homeowner Received Green Jobs-Green NY Free/Reduced Cost Audit (Y/N)    48871 non-null object\n",
      "Location                                                                48870 non-null object\n",
      "dtypes: int64(7), object(14)\n",
      "memory usage: 7.8+ MB\n",
      "None\n"
     ]
    }
   ],
   "source": [
    "d0.shape\n",
    "print(d0.info())"
   ]
  },
  {
   "cell_type": "code",
   "execution_count": 29,
   "metadata": {},
   "outputs": [
    {
     "name": "stdout",
     "output_type": "stream",
     "text": [
      "Index(['Reporting Period', 'Home Performance Project ID',\n",
      "       'Home Performance Site ID', 'Project County', 'Project City',\n",
      "       'Project Zip', 'Gas Utility', 'Electric Utility',\n",
      "       'Project Completion Date', 'Customer Type',\n",
      "       'Low-Rise or Home Performance Indicator', 'Total Project Cost (USD)',\n",
      "       'Total Incentives (USD)', 'Type of Program Financing',\n",
      "       'Amount Financed Through Program (USD)',\n",
      "       'Pre-Retrofit Home Heating Fuel Type', 'Estimated Annual kWh Savings',\n",
      "       'Estimated Annual MMBtu Savings',\n",
      "       'First Year Energy Savings $ Estimate (USD)',\n",
      "       'Homeowner Received Green Jobs-Green NY Free/Reduced Cost Audit (Y/N)',\n",
      "       'Location'],\n",
      "      dtype='object')\n"
     ]
    }
   ],
   "source": [
    "#column names\n",
    "print(d0.columns)"
   ]
  },
  {
   "cell_type": "code",
   "execution_count": 30,
   "metadata": {},
   "outputs": [
    {
     "name": "stdout",
     "output_type": "stream",
     "text": [
      "360\n",
      "Reporting Period                                                            1\n",
      "Home Performance Project ID                                             48871\n",
      "Home Performance Site ID                                                47367\n",
      "Project County                                                             62\n",
      "Project City                                                             1439\n",
      "Project Zip                                                              1486\n",
      "Gas Utility                                                                15\n",
      "Electric Utility                                                            9\n",
      "Project Completion Date                                                  1978\n",
      "Customer Type                                                               2\n",
      "Low-Rise or Home Performance Indicator                                      2\n",
      "Total Project Cost (USD)                                                15296\n",
      "Total Incentives (USD)                                                   4677\n",
      "Type of Program Financing                                                   4\n",
      "Amount Financed Through Program (USD)                                    8839\n",
      "Pre-Retrofit Home Heating Fuel Type                                        10\n",
      "Estimated Annual kWh Savings                                             4643\n",
      "Estimated Annual MMBtu Savings                                            360\n",
      "First Year Energy Savings $ Estimate (USD)                               3602\n",
      "Homeowner Received Green Jobs-Green NY Free/Reduced Cost Audit (Y/N)        2\n",
      "Location                                                                 1675\n",
      "dtype: int64\n"
     ]
    }
   ],
   "source": [
    "print(d0['Estimated Annual MMBtu Savings'].nunique())\n",
    "print(d0.nunique())"
   ]
  },
  {
   "cell_type": "code",
   "execution_count": null,
   "metadata": {},
   "outputs": [],
   "source": []
  },
  {
   "cell_type": "code",
   "execution_count": 31,
   "metadata": {},
   "outputs": [
    {
     "name": "stdout",
     "output_type": "stream",
     "text": [
      "Reporting Period                                                        object\n",
      "Home Performance Project ID                                             object\n",
      "Home Performance Site ID                                                object\n",
      "Project County                                                          object\n",
      "Project City                                                            object\n",
      "Project Zip                                                              int64\n",
      "Gas Utility                                                             object\n",
      "Electric Utility                                                        object\n",
      "Project Completion Date                                                 object\n",
      "Customer Type                                                           object\n",
      "Low-Rise or Home Performance Indicator                                  object\n",
      "Total Project Cost (USD)                                                 int64\n",
      "Total Incentives (USD)                                                   int64\n",
      "Type of Program Financing                                               object\n",
      "Amount Financed Through Program (USD)                                    int64\n",
      "Pre-Retrofit Home Heating Fuel Type                                     object\n",
      "Estimated Annual kWh Savings                                             int64\n",
      "Estimated Annual MMBtu Savings                                           int64\n",
      "First Year Energy Savings $ Estimate (USD)                               int64\n",
      "Homeowner Received Green Jobs-Green NY Free/Reduced Cost Audit (Y/N)    object\n",
      "Location                                                                object\n",
      "dtype: object\n"
     ]
    }
   ],
   "source": [
    "print(d0.dtypes)"
   ]
  },
  {
   "cell_type": "markdown",
   "metadata": {},
   "source": [
    "# Answer 1"
   ]
  },
  {
   "cell_type": "code",
   "execution_count": 33,
   "metadata": {},
   "outputs": [
    {
     "data": {
      "text/plain": [
       "Pre-Retrofit Home Heating Fuel Type\n",
       "Anthracite Coal         9\n",
       "Coal                 1427\n",
       "Electricity         -3916\n",
       "Kerosene             2905\n",
       "Natural Gas        483834\n",
       "Natural gas        497717\n",
       "Oil                482771\n",
       "Propane             62516\n",
       "Wood                15339\n",
       "Wood Pellets         2915\n",
       "Name: Estimated Annual MMBtu Savings, dtype: int64"
      ]
     },
     "execution_count": 33,
     "metadata": {},
     "output_type": "execute_result"
    }
   ],
   "source": [
    "d0.groupby(['Pre-Retrofit Home Heating Fuel Type'])['Estimated Annual MMBtu Savings'].sum()"
   ]
  },
  {
   "cell_type": "markdown",
   "metadata": {},
   "source": [
    "# Answer 2"
   ]
  },
  {
   "cell_type": "code",
   "execution_count": 37,
   "metadata": {},
   "outputs": [
    {
     "data": {
      "text/plain": [
       "Project County  Pre-Retrofit Home Heating Fuel Type\n",
       "Albany          Electricity                            2114\n",
       "                Kerosene                               5981\n",
       "                Natural Gas                            2201\n",
       "                Natural gas                            2889\n",
       "                Oil                                    4934\n",
       "                Propane                                1778\n",
       "                Wood                                   1863\n",
       "                Wood Pellets                           1142\n",
       "Allegany        Electricity                             180\n",
       "                Natural Gas                            1273\n",
       "                Natural gas                             589\n",
       "                Oil                                    2251\n",
       "                Propane                                2439\n",
       "                Wood                                    730\n",
       "Bronx           Electricity                            2140\n",
       "                Natural Gas                            1850\n",
       "                Natural gas                            1831\n",
       "                Oil                                    4788\n",
       "Broome          Coal                                   1051\n",
       "                Electricity                            2066\n",
       "                Kerosene                                600\n",
       "                Natural Gas                            2523\n",
       "                Natural gas                            2287\n",
       "                Oil                                    4700\n",
       "                Propane                                2171\n",
       "                Wood                                    986\n",
       "                Wood Pellets                           1465\n",
       "Cattaraugus     Electricity                            1556\n",
       "                Natural Gas                            1743\n",
       "                Natural gas                            1720\n",
       "                                                       ... \n",
       "Washington      Wood Pellets                            489\n",
       "Wayne           Coal                                    596\n",
       "                Electricity                            3409\n",
       "                Kerosene                               1298\n",
       "                Natural Gas                            2802\n",
       "                Natural gas                            2034\n",
       "                Oil                                    5170\n",
       "                Propane                                4625\n",
       "                Wood                                   1238\n",
       "                Wood Pellets                           1128\n",
       "Westchester     Electricity                            2925\n",
       "                Kerosene                                 47\n",
       "                Natural Gas                            8320\n",
       "                Natural gas                            3310\n",
       "                Oil                                    9173\n",
       "                Propane                                3065\n",
       "                Wood                                   1462\n",
       "Wyoming         Coal                                    111\n",
       "                Electricity                            1667\n",
       "                Natural Gas                            1390\n",
       "                Natural gas                            1198\n",
       "                Oil                                    4373\n",
       "                Propane                                2781\n",
       "Yates           Coal                                     85\n",
       "                Electricity                            1608\n",
       "                Natural Gas                            1011\n",
       "                Natural gas                            1735\n",
       "                Oil                                    2638\n",
       "                Propane                                2544\n",
       "                Wood                                   1390\n",
       "Name: First Year Energy Savings $ Estimate (USD), Length: 443, dtype: int64"
      ]
     },
     "execution_count": 37,
     "metadata": {},
     "output_type": "execute_result"
    }
   ],
   "source": [
    "d0.groupby(['Project County','Pre-Retrofit Home Heating Fuel Type'])['First Year Energy Savings $ Estimate (USD)'].max()"
   ]
  },
  {
   "cell_type": "markdown",
   "metadata": {},
   "source": [
    "### answer 3"
   ]
  },
  {
   "cell_type": "code",
   "execution_count": 58,
   "metadata": {},
   "outputs": [],
   "source": [
    "df=d0"
   ]
  },
  {
   "cell_type": "code",
   "execution_count": 59,
   "metadata": {},
   "outputs": [
    {
     "name": "stdout",
     "output_type": "stream",
     "text": [
      "33\n"
     ]
    }
   ],
   "source": [
    "print((df.groupby(['Project County'])['First Year Energy Savings $ Estimate (USD)'].mean().sort_values() > 800).sum())\n"
   ]
  },
  {
   "cell_type": "markdown",
   "metadata": {},
   "source": [
    "### answer 4"
   ]
  },
  {
   "cell_type": "code",
   "execution_count": 40,
   "metadata": {},
   "outputs": [
    {
     "data": {
      "text/plain": [
       "Project City\n",
       "Vermontville           -16408.000000\n",
       "Fultonville            -12543.500000\n",
       "Jefferson               -9569.500000\n",
       "Granville               -7846.000000\n",
       "Central Sq              -7428.000000\n",
       "East Berne              -6394.500000\n",
       "Rock City Falls         -6235.000000\n",
       "Cuba                    -5228.000000\n",
       "Ellicottville           -5028.000000\n",
       "Grafton                 -4700.500000\n",
       "Middle Grove            -4565.500000\n",
       "Ferndale                -4489.000000\n",
       "Modena                  -4362.500000\n",
       "North Chatham           -4227.600000\n",
       "Sardinia                -4110.000000\n",
       "Craryville              -4015.750000\n",
       "Cambridge               -3775.166667\n",
       "Darien Center           -3758.400000\n",
       "Schodack Lndg           -3544.000000\n",
       "Bolton Landing          -3537.400000\n",
       "Bakers Mills            -3411.000000\n",
       "Whitehall               -3278.000000\n",
       "New Woodstock           -3273.625000\n",
       "Salamanca               -2634.666667\n",
       "Farmersville Station    -2397.000000\n",
       "St Johnsville           -2345.333333\n",
       "Mountain Dale           -2281.000000\n",
       "Salem                   -2274.000000\n",
       "Delanson                -2211.500000\n",
       "Franklin                -2118.000000\n",
       "                            ...     \n",
       "Burke                    4914.000000\n",
       "Westfield                5116.666667\n",
       "Great Valley             5124.666667\n",
       "Sinclairville            5406.800000\n",
       "Saranac Lake             5566.184615\n",
       "Somers                   5652.040816\n",
       "Malden Bridge            5678.000000\n",
       "Brantingham              5683.000000\n",
       "Turin                    5687.500000\n",
       "Lily Dale                5709.500000\n",
       "Altmar                   5890.000000\n",
       "Smallwood, Ny            6149.000000\n",
       "Dannemora                6322.000000\n",
       "Stephentown              6709.500000\n",
       "Fort Ann                 6787.714286\n",
       "Verona Beach             6979.000000\n",
       "Tupper Lake              7078.000000\n",
       "Caneadea                 7608.000000\n",
       "Knox                     8213.000000\n",
       "Saranac                  9014.000000\n",
       "Westbrookville           9492.000000\n",
       "Mc Donough              10181.000000\n",
       "Smallwood               11159.000000\n",
       "Oswegatchie             11387.000000\n",
       "Buskirk                 13181.000000\n",
       "Hoffmeister             14340.000000\n",
       "Swain                   16410.000000\n",
       "Lake Placid             21616.500000\n",
       "Copake Falls            22382.000000\n",
       "Fort Johnson            31063.250000\n",
       "Name: Estimated Annual kWh Savings, Length: 1439, dtype: float64"
      ]
     },
     "execution_count": 40,
     "metadata": {},
     "output_type": "execute_result"
    }
   ],
   "source": [
    "df = d0.groupby(['Project City'])['Estimated Annual kWh Savings'].mean().sort_values()\n",
    "df"
   ]
  },
  {
   "cell_type": "markdown",
   "metadata": {},
   "source": [
    "### answer 5 "
   ]
  },
  {
   "cell_type": "code",
   "execution_count": 12,
   "metadata": {
    "scrolled": true
   },
   "outputs": [
    {
     "name": "stdout",
     "output_type": "stream",
     "text": [
      "Natural gas        17044\n",
      "Natural Gas        15657\n",
      "Oil                12117\n",
      "Propane             2189\n",
      "Electricity         1236\n",
      "Wood                 351\n",
      "Wood Pellets         125\n",
      "Kerosene             101\n",
      "Coal                  50\n",
      "Anthracite Coal        1\n",
      "Name: Pre-Retrofit Home Heating Fuel Type, dtype: int64\n"
     ]
    }
   ],
   "source": [
    "print(d0['Pre-Retrofit Home Heating Fuel Type'].value_counts())"
   ]
  },
  {
   "cell_type": "code",
   "execution_count": 35,
   "metadata": {},
   "outputs": [
    {
     "name": "stdout",
     "output_type": "stream",
     "text": [
      "  Reporting Period Home Performance Project ID Home Performance Site ID  \\\n",
      "0       01/31/2018                P00000780513             S00000167844   \n",
      "1       01/31/2018                P00000896731             S00000220979   \n",
      "2       01/31/2018                P00000900996             S00000246366   \n",
      "3       01/31/2018                P00000935291             S00000265719   \n",
      "4       01/31/2018                P00000936199             S00000267582   \n",
      "\n",
      "   Project County    Project City  Project Zip Gas Utility Electric Utility  \\\n",
      "0       Jefferson  Three Mile Bay        13693         NaN    National Grid   \n",
      "1         Orleans            Kent        14477         NaN    National Grid   \n",
      "2  Saint Lawrence         Potsdam        13676         NaN    National Grid   \n",
      "3          Oneida            Rome        13440         NaN    National Grid   \n",
      "4          Oneida            Rome        13440         NaN    National Grid   \n",
      "\n",
      "  Project Completion Date Customer Type  \\\n",
      "0              07/06/2012      Assisted   \n",
      "1              07/14/2014      Assisted   \n",
      "2              09/16/2014        Market   \n",
      "3              01/23/2015      Assisted   \n",
      "4              02/09/2015        Market   \n",
      "\n",
      "                     ...                     Total Project Cost (USD)  \\\n",
      "0                    ...                                        10000   \n",
      "1                    ...                                         2980   \n",
      "2                    ...                                        13500   \n",
      "3                    ...                                         6000   \n",
      "4                    ...                                         8915   \n",
      "\n",
      "   Total Incentives (USD)  Type of Program Financing  \\\n",
      "0                    5000                        NaN   \n",
      "1                    1490                        NaN   \n",
      "2                    1350                        NaN   \n",
      "3                    3000                        NaN   \n",
      "4                     892                        NaN   \n",
      "\n",
      "  Amount Financed Through Program (USD)  Pre-Retrofit Home Heating Fuel Type  \\\n",
      "0                                     0                                  NaN   \n",
      "1                                     0                                  NaN   \n",
      "2                                     0                                  NaN   \n",
      "3                                     0                                  NaN   \n",
      "4                                     0                                  NaN   \n",
      "\n",
      "  Estimated Annual kWh Savings  Estimated Annual MMBtu Savings  \\\n",
      "0                            0                              19   \n",
      "1                          280                              31   \n",
      "2                            0                              26   \n",
      "3                          181                              14   \n",
      "4                            0                              38   \n",
      "\n",
      "   First Year Energy Savings $ Estimate (USD)  \\\n",
      "0                                         689   \n",
      "1                                         571   \n",
      "2                                         702   \n",
      "3                                         388   \n",
      "4                                        1001   \n",
      "\n",
      "   Homeowner Received Green Jobs-Green NY Free/Reduced Cost Audit (Y/N)  \\\n",
      "0                                                Yes                      \n",
      "1                                                Yes                      \n",
      "2                                                 No                      \n",
      "3                                                Yes                      \n",
      "4                                                Yes                      \n",
      "\n",
      "                                    Location  \n",
      "0                Three Mile\\nBay, NY 13693\\n  \n",
      "1     Kent, NY 14477\\n(43.346379, -78.13651)  \n",
      "2  Potsdam, NY 13676\\n(44.65525, -74.932432)  \n",
      "3    Rome, NY 13440\\n(43.214717, -75.454665)  \n",
      "4    Rome, NY 13440\\n(43.214717, -75.454665)  \n",
      "\n",
      "[5 rows x 21 columns]\n"
     ]
    }
   ],
   "source": [
    "data=d0\n",
    "print(data.head())"
   ]
  },
  {
   "cell_type": "code",
   "execution_count": 25,
   "metadata": {},
   "outputs": [
    {
     "data": {
      "text/plain": [
       "Rochester           5421\n",
       "Buffalo             2268\n",
       "Watertown           1949\n",
       "Syracuse            1576\n",
       "Fort Drum            686\n",
       "Webster              667\n",
       "Ithaca               614\n",
       "Pittsford            614\n",
       "Utica                596\n",
       "Tonawanda            530\n",
       "Liverpool            467\n",
       "Canandaigua          394\n",
       "Penfield             361\n",
       "Rome                 347\n",
       "Niagara Falls        341\n",
       "Albany               326\n",
       "North Chili          323\n",
       "Fairport             320\n",
       "West Babylon         318\n",
       "White Plains         315\n",
       "Schenectady          305\n",
       "Brockport            302\n",
       "Poughkeepsie         292\n",
       "Binghamton           284\n",
       "North Tonawanda      284\n",
       "Baldwinsville        273\n",
       "Geneva               257\n",
       "Brooklyn             250\n",
       "Scarsdale            218\n",
       "Victor               213\n",
       "                    ... \n",
       "Piseco                 1\n",
       "Alton                  1\n",
       "Breezy Point           1\n",
       "Champlain              1\n",
       "Keene Valley           1\n",
       "Brant                  1\n",
       "Belle Harbor           1\n",
       "Hinsdale               1\n",
       "Croton Falls           1\n",
       "East Marion            1\n",
       "Elmhurst               1\n",
       "Portchester            1\n",
       "Glendale               1\n",
       "Clarence Ctr           1\n",
       "South Butler           1\n",
       "Oswegatchie            1\n",
       "Lawtons                1\n",
       "Alexander              1\n",
       "Pierrepont Manor       1\n",
       "Java Village           1\n",
       "Grand Gorge            1\n",
       "Godeffroy              1\n",
       "Tioga Center           1\n",
       "Rhinecliff             1\n",
       "Clifton Spgs           1\n",
       "Ferndale               1\n",
       "Fort Hunter            1\n",
       "Kings Point            1\n",
       "Mt Tremper             1\n",
       "Nineveh                1\n",
       "Name: Project City, Length: 1439, dtype: int64"
      ]
     },
     "execution_count": 25,
     "metadata": {},
     "output_type": "execute_result"
    }
   ],
   "source": [
    "d0['Project City'].value_counts()"
   ]
  },
  {
   "cell_type": "code",
   "execution_count": 43,
   "metadata": {},
   "outputs": [
    {
     "data": {
      "image/png": "[encoded data removed]",
      "text/plain": [
       "<matplotlib.figure.Figure at 0xeb7a576668>"
      ]
     },
     "metadata": {},
     "output_type": "display_data"
    }
   ],
   "source": [
    "fig=sns.FacetGrid(d0,size=5)\n",
    "fig.map(plt.scatter,'Total Project Cost (USD)','First Year Energy Savings $ Estimate (USD)')\n",
    "fig.add_legend()\n",
    "plt.show()"
   ]
  },
  {
   "cell_type": "code",
   "execution_count": 44,
   "metadata": {},
   "outputs": [
    {
     "data": {
      "image/png": "[encoded data removed]",
      "text/plain": [
       "<matplotlib.figure.Figure at 0xeb7a5df908>"
      ]
     },
     "metadata": {},
     "output_type": "display_data"
    }
   ],
   "source": [
    "fig=sns.FacetGrid(d0,size=5)\n",
    "fig.map(plt.scatter,'Total Project Cost (USD)','Estimated Annual MMBtu Savings')\n",
    "fig.add_legend()\n",
    "plt.show()"
   ]
  },
  {
   "cell_type": "code",
   "execution_count": 45,
   "metadata": {},
   "outputs": [
    {
     "data": {
      "image/png": "[encoded data removed]",
      "text/plain": [
       "<matplotlib.figure.Figure at 0xeb7a6ba4e0>"
      ]
     },
     "metadata": {},
     "output_type": "display_data"
    }
   ],
   "source": [
    "fig=sns.FacetGrid(d0,size=5)\n",
    "fig.map(plt.scatter,'Total Incentives (USD)','Estimated Annual MMBtu Savings')\n",
    "fig.add_legend()\n",
    "plt.show()"
   ]
  },
  {
   "cell_type": "code",
   "execution_count": 47,
   "metadata": {},
   "outputs": [
    {
     "data": {
      "image/png": "[encoded data removed]",
      "text/plain": [
       "<matplotlib.figure.Figure at 0xeb7a60e710>"
      ]
     },
     "metadata": {},
     "output_type": "display_data"
    }
   ],
   "source": [
    "fig=sns.FacetGrid(d0,size=5)\n",
    "fig.map(plt.scatter,'Amount Financed Through Program (USD)','Estimated Annual MMBtu Savings')\n",
    "fig.add_legend()\n",
    "plt.show()"
   ]
  },
  {
   "cell_type": "code",
   "execution_count": 42,
   "metadata": {},
   "outputs": [
    {
     "ename": "NameError",
     "evalue": "name 'image' is not defined",
     "output_type": "error",
     "traceback": [
      "\u001b[1;31m---------------------------------------------------------------------------\u001b[0m",
      "\u001b[1;31mNameError\u001b[0m                                 Traceback (most recent call last)",
      "\u001b[1;32m<ipython-input-42-d91127242a09>\u001b[0m in \u001b[0;36m<module>\u001b[1;34m()\u001b[0m\n\u001b[1;32m----> 1\u001b[1;33m \u001b[0mplt\u001b[0m\u001b[1;33m.\u001b[0m\u001b[0mscatter\u001b[0m\u001b[1;33m(\u001b[0m\u001b[0md0\u001b[0m\u001b[1;33m[\u001b[0m\u001b[1;34m'Total Project Cost (USD)'\u001b[0m\u001b[1;33m]\u001b[0m\u001b[1;33m,\u001b[0m\u001b[0md0\u001b[0m\u001b[1;33m[\u001b[0m\u001b[1;34m'First Year Energy Savings $ Estimate (USD)'\u001b[0m\u001b[1;33m]\u001b[0m\u001b[1;33m,\u001b[0m\u001b[0mcmap\u001b[0m\u001b[1;33m=\u001b[0m\u001b[0mimage\u001b[0m\u001b[1;33m.\u001b[0m\u001b[0mcmap\u001b[0m\u001b[1;33m)\u001b[0m\u001b[1;33m\u001b[0m\u001b[0m\n\u001b[0m\u001b[0;32m      2\u001b[0m \u001b[0mplt\u001b[0m\u001b[1;33m.\u001b[0m\u001b[0mshow\u001b[0m\u001b[1;33m(\u001b[0m\u001b[1;33m)\u001b[0m\u001b[1;33m\u001b[0m\u001b[0m\n",
      "\u001b[1;31mNameError\u001b[0m: name 'image' is not defined"
     ]
    }
   ],
   "source": [
    "plt.scatter(d0['Total Project Cost (USD)'],d0['First Year Energy Savings $ Estimate (USD)'],cmap=)\n",
    "plt.show()"
   ]
  },
  {
   "cell_type": "code",
   "execution_count": 53,
   "metadata": {},
   "outputs": [
    {
     "name": "stdout",
     "output_type": "stream",
     "text": [
      "0.5819275741054862\n"
     ]
    }
   ],
   "source": [
    "print(d0['Estimated Annual MMBtu Savings'].corr(d0['Total Project Cost (USD)']))\n"
   ]
  },
  {
   "cell_type": "code",
   "execution_count": 51,
   "metadata": {},
   "outputs": [
    {
     "name": "stdout",
     "output_type": "stream",
     "text": [
      "0.42988907300114676\n"
     ]
    }
   ],
   "source": [
    "print(d0['Estimated Annual MMBtu Savings'].corr(d0['Amount Financed Through Program (USD)']))"
   ]
  },
  {
   "cell_type": "code",
   "execution_count": 52,
   "metadata": {},
   "outputs": [
    {
     "name": "stdout",
     "output_type": "stream",
     "text": [
      "0.27638852209516734\n"
     ]
    }
   ],
   "source": [
    "print(d0['Estimated Annual MMBtu Savings'].corr(d0['Total Incentives (USD)']))"
   ]
  },
  {
   "cell_type": "code",
   "execution_count": 29,
   "metadata": {},
   "outputs": [
    {
     "name": "stdout",
     "output_type": "stream",
     "text": [
      "Natural gas     15657\n",
      "Name: Pre-Retrofit Home Heating Fuel Type, dtype: int64\n"
     ]
    }
   ],
   "source": []
  },
  {
   "cell_type": "markdown",
   "metadata": {},
   "source": [
    "# Observation\n"
   ]
  },
  {
   "cell_type": "markdown",
   "metadata": {},
   "source": [
    "After analysing the above graph and correlation values we can say that 'Total Project Cost (USD)' has more effect on the'TEstimated Annual MMBtu Savings'."
   ]
  },
  {
   "cell_type": "code",
   "execution_count": null,
   "metadata": {},
   "outputs": [],
   "source": []
  }
 ],
 "metadata": {
  "kernelspec": {
   "display_name": "Python 3",
   "language": "python",
   "name": "python3"
  },
  "language_info": {
   "codemirror_mode": {
    "name": "ipython",
    "version": 3
   },
   "file_extension": ".py",
   "mimetype": "text/x-python",
   "name": "python",
   "nbconvert_exporter": "python",
   "pygments_lexer": "ipython3",
   "version": "3.6.4"
  }
 },
 "nbformat": 4,
 "nbformat_minor": 2
}
